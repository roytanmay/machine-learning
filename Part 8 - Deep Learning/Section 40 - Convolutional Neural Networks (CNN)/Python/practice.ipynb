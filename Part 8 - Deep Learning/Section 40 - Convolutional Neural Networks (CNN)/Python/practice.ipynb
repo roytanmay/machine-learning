{
 "cells": [
  {
   "cell_type": "code",
   "execution_count": 1,
   "metadata": {},
   "outputs": [
    {
     "name": "stdout",
     "output_type": "stream",
     "text": [
      "WARNING:tensorflow:From c:\\Users\\user\\anaconda3\\Lib\\site-packages\\keras\\src\\losses.py:2976: The name tf.losses.sparse_softmax_cross_entropy is deprecated. Please use tf.compat.v1.losses.sparse_softmax_cross_entropy instead.\n",
      "\n"
     ]
    }
   ],
   "source": [
    "from keras.models import Sequential\n",
    "from keras.layers import Convolution2D\n",
    "from keras.layers import MaxPooling2D\n",
    "from keras.layers import Flatten\n",
    "from keras.layers import Dense"
   ]
  },
  {
   "cell_type": "code",
   "execution_count": 2,
   "metadata": {},
   "outputs": [
    {
     "name": "stdout",
     "output_type": "stream",
     "text": [
      "WARNING:tensorflow:From c:\\Users\\user\\anaconda3\\Lib\\site-packages\\keras\\src\\backend.py:873: The name tf.get_default_graph is deprecated. Please use tf.compat.v1.get_default_graph instead.\n",
      "\n"
     ]
    }
   ],
   "source": [
    "# Initializing the CNN\n",
    "cnn = Sequential()"
   ]
  },
  {
   "cell_type": "markdown",
   "metadata": {},
   "source": [
    "# Step 1 - Convolution\n",
    "\n",
    "**Convolution2D:**  This is a layer type for 2D convolutions in a neural network. Convolutional layers are fundamental building blocks in CNNs for extracting features from input data.\n",
    "\n",
    "**32:**     This parameter represents the number of filters (or kernels) in the convolutional layer. Each filter learns different features in the input data.\n",
    "\n",
    "**3, 3:**   These are the dimensions of each filter. In this case, each filter is a 3x3 grid.\n",
    "\n",
    "**input_shape=(64, 64, 3):**    This specifies the shape of the input data that will be fed into the network. In this case, the input data is expected to be 3D with a shape of (64, 64, 3), where 64x64 is the height and width, and 3 corresponds to the three color channels (RGB).\n",
    "\n",
    "**activation='relu':**  The Rectified Linear Unit (ReLU) activation function is applied element-wise to introduce non-linearity to the model. ReLU is commonly used in hidden layers of neural networks.\n",
    "\n",
    "**cnn.add(...):**   This line indicates that you are adding this convolutional layer to your CNN model (cnn). The add method is used to sequentially add layers to the model."
   ]
  },
  {
   "cell_type": "code",
   "execution_count": 3,
   "metadata": {},
   "outputs": [],
   "source": [
    "cnn.add(Convolution2D(32, 3, 3, input_shape = (64, 64, 3), activation = 'relu'))"
   ]
  },
  {
   "cell_type": "markdown",
   "metadata": {},
   "source": [
    "# Step 2 - Pooling\n",
    "\n",
    "**MaxPooling2D:** This is a pooling layer in a CNN. Pooling layers are used to down-sample the spatial dimensions of the input volume, effectively reducing the number of parameters and computation in the network. Max pooling is a type of pooling operation where the maximum value in a region is retained.\n",
    "\n",
    "**pool_size=(2, 2):** This parameter defines the size of the pooling window. In this case, it's a 2x2 window. The pooling operation is applied independently to each depth dimension of the input."
   ]
  },
  {
   "cell_type": "code",
   "execution_count": 4,
   "metadata": {},
   "outputs": [
    {
     "name": "stdout",
     "output_type": "stream",
     "text": [
      "WARNING:tensorflow:From c:\\Users\\user\\anaconda3\\Lib\\site-packages\\keras\\src\\layers\\pooling\\max_pooling2d.py:161: The name tf.nn.max_pool is deprecated. Please use tf.nn.max_pool2d instead.\n",
      "\n"
     ]
    }
   ],
   "source": [
    "cnn.add(MaxPooling2D(pool_size = (2, 2)))"
   ]
  },
  {
   "cell_type": "code",
   "execution_count": 5,
   "metadata": {},
   "outputs": [],
   "source": [
    "# Adding second convolution layer\n",
    "\n",
    "# cnn.add(Convolution2D(32, 3, 3, activation = 'relu'))\n",
    "# cnn.add(MaxPooling2D(pool_size = (2, 2)))\n"
   ]
  },
  {
   "cell_type": "markdown",
   "metadata": {},
   "source": [
    "# Step 3 - Flattening"
   ]
  },
  {
   "cell_type": "code",
   "execution_count": 6,
   "metadata": {},
   "outputs": [],
   "source": [
    "cnn.add(Flatten())"
   ]
  },
  {
   "cell_type": "markdown",
   "metadata": {},
   "source": [
    "# Step 4 - Full Connection\n",
    "\n",
    "**Dense:** This is a fully connected layer, meaning that each neuron in this layer is connected to every neuron in the previous layer.\n",
    "\n",
    "**units=128:** This parameter specifies the number of neurons or units in the dense layer. In this case, there are 128 units.\n",
    "\n",
    "**activation='relu':** The Rectified Linear Unit (ReLU) activation function is applied element-wise to introduce non-linearity to the model. ReLU is commonly used in hidden layers of neural networks."
   ]
  },
  {
   "cell_type": "code",
   "execution_count": 7,
   "metadata": {},
   "outputs": [],
   "source": [
    "cnn.add(Dense(units=128, activation='relu'))\n",
    "\n",
    "#   Output layer\n",
    "cnn.add(Dense(units=1, activation='sigmoid'))"
   ]
  },
  {
   "cell_type": "markdown",
   "metadata": {},
   "source": [
    "### Compiling the CNN\n",
    "\n",
    "**optimizer='adam':**\n",
    "The optimizer is a crucial component in the training process of neural networks. It defines the optimization algorithm that updates the weights of the network during training to minimize the chosen loss function. In this case, 'adam' refers to the Adam optimizer, which is a popular and effective optimization algorithm.\n",
    "\n",
    "**loss='binary_crossentropy':**\n",
    "The loss function (or objective function) is a measure of how well the neural network is performing on the training data. In binary classification problems (where there are two classes), 'binary_crossentropy' is a common choice for the loss function. It measures the difference between the true labels and the predicted probabilities for each example.\n",
    "\n",
    "**metrics=['accuracy']:**\n",
    "Metrics are used to evaluate the performance of the model. In this case, the metric specified is 'accuracy,' which is a common metric for classification problems. Accuracy represents the ratio of correctly predicted instances to the total instances.\n",
    "\n",
    "**cnn.compile(...):**\n",
    "This line compiles the model with the specified optimizer, loss function, and metrics. After this compilation step, the model is ready to be trained using the training data."
   ]
  },
  {
   "cell_type": "code",
   "execution_count": 8,
   "metadata": {},
   "outputs": [
    {
     "name": "stdout",
     "output_type": "stream",
     "text": [
      "WARNING:tensorflow:From c:\\Users\\user\\anaconda3\\Lib\\site-packages\\keras\\src\\optimizers\\__init__.py:309: The name tf.train.Optimizer is deprecated. Please use tf.compat.v1.train.Optimizer instead.\n",
      "\n"
     ]
    }
   ],
   "source": [
    "cnn.compile(optimizer = 'adam', loss = 'binary_crossentropy', metrics = ['accuracy'])"
   ]
  },
  {
   "cell_type": "markdown",
   "metadata": {},
   "source": [
    "## Image Preprocessing"
   ]
  },
  {
   "cell_type": "code",
   "execution_count": 9,
   "metadata": {},
   "outputs": [
    {
     "name": "stdout",
     "output_type": "stream",
     "text": [
      "Found 8002 images belonging to 2 classes.\n",
      "Found 2004 images belonging to 2 classes.\n"
     ]
    }
   ],
   "source": [
    "from keras.preprocessing.image import ImageDataGenerator\n",
    "\n",
    "train_datagen = ImageDataGenerator(rescale = 1./255,\n",
    "                                   shear_range = 0.2,\n",
    "                                   zoom_range = 0.2,\n",
    "                                   horizontal_flip = True)\n",
    "training_set = train_datagen.flow_from_directory('dataset/training_set',\n",
    "                                                 target_size = (64, 64),\n",
    "                                                 batch_size = 32,\n",
    "                                                 class_mode = 'binary')\n",
    "\n",
    "test_datagen = ImageDataGenerator(rescale = 1./255)\n",
    "test_set = test_datagen.flow_from_directory('dataset/test_set',\n",
    "                                            target_size = (64, 64),\n",
    "                                            batch_size = 32,\n",
    "                                            class_mode = 'binary')"
   ]
  },
  {
   "cell_type": "markdown",
   "metadata": {},
   "source": [
    "## Training the CNN on the Training set and evaluating it on the Test set"
   ]
  },
  {
   "cell_type": "code",
   "execution_count": 10,
   "metadata": {},
   "outputs": [
    {
     "name": "stdout",
     "output_type": "stream",
     "text": [
      "Epoch 1/25\n",
      "WARNING:tensorflow:From c:\\Users\\user\\anaconda3\\Lib\\site-packages\\keras\\src\\utils\\tf_utils.py:492: The name tf.ragged.RaggedTensorValue is deprecated. Please use tf.compat.v1.ragged.RaggedTensorValue instead.\n",
      "\n",
      "WARNING:tensorflow:From c:\\Users\\user\\anaconda3\\Lib\\site-packages\\keras\\src\\engine\\base_layer_utils.py:384: The name tf.executing_eagerly_outside_functions is deprecated. Please use tf.compat.v1.executing_eagerly_outside_functions instead.\n",
      "\n",
      "251/251 [==============================] - 225s 891ms/step - loss: 0.6817 - accuracy: 0.5709 - val_loss: 0.6325 - val_accuracy: 0.6761\n",
      "Epoch 2/25\n",
      "251/251 [==============================] - 122s 487ms/step - loss: 0.6195 - accuracy: 0.6592 - val_loss: 0.5956 - val_accuracy: 0.6727\n",
      "Epoch 3/25\n",
      "251/251 [==============================] - 115s 458ms/step - loss: 0.5824 - accuracy: 0.6963 - val_loss: 0.6011 - val_accuracy: 0.6751\n",
      "Epoch 4/25\n",
      "251/251 [==============================] - 37s 146ms/step - loss: 0.5655 - accuracy: 0.7102 - val_loss: 0.6299 - val_accuracy: 0.6332\n",
      "Epoch 5/25\n",
      "251/251 [==============================] - 31s 123ms/step - loss: 0.5506 - accuracy: 0.7231 - val_loss: 0.5459 - val_accuracy: 0.7260\n",
      "Epoch 6/25\n",
      "251/251 [==============================] - 41s 162ms/step - loss: 0.5386 - accuracy: 0.7292 - val_loss: 0.5614 - val_accuracy: 0.7166\n",
      "Epoch 7/25\n",
      "251/251 [==============================] - 94s 375ms/step - loss: 0.5266 - accuracy: 0.7373 - val_loss: 0.5078 - val_accuracy: 0.7555\n",
      "Epoch 8/25\n",
      "251/251 [==============================] - 49s 195ms/step - loss: 0.5128 - accuracy: 0.7447 - val_loss: 0.5625 - val_accuracy: 0.7126\n",
      "Epoch 9/25\n",
      "251/251 [==============================] - 30s 120ms/step - loss: 0.5088 - accuracy: 0.7464 - val_loss: 0.5052 - val_accuracy: 0.7410\n",
      "Epoch 10/25\n",
      "251/251 [==============================] - 30s 121ms/step - loss: 0.5030 - accuracy: 0.7502 - val_loss: 0.5778 - val_accuracy: 0.6996\n",
      "Epoch 11/25\n",
      "251/251 [==============================] - 30s 119ms/step - loss: 0.4984 - accuracy: 0.7598 - val_loss: 0.4923 - val_accuracy: 0.7560\n",
      "Epoch 12/25\n",
      "251/251 [==============================] - 32s 126ms/step - loss: 0.4894 - accuracy: 0.7561 - val_loss: 0.5007 - val_accuracy: 0.7605\n",
      "Epoch 13/25\n",
      "251/251 [==============================] - 30s 120ms/step - loss: 0.4864 - accuracy: 0.7643 - val_loss: 0.5422 - val_accuracy: 0.7340\n",
      "Epoch 14/25\n",
      "251/251 [==============================] - 31s 125ms/step - loss: 0.4752 - accuracy: 0.7706 - val_loss: 0.4885 - val_accuracy: 0.7705\n",
      "Epoch 15/25\n",
      "251/251 [==============================] - 30s 120ms/step - loss: 0.4701 - accuracy: 0.7757 - val_loss: 0.4822 - val_accuracy: 0.7625\n",
      "Epoch 16/25\n",
      "251/251 [==============================] - 30s 118ms/step - loss: 0.4627 - accuracy: 0.7749 - val_loss: 0.5903 - val_accuracy: 0.7280\n",
      "Epoch 17/25\n",
      "251/251 [==============================] - 32s 127ms/step - loss: 0.4593 - accuracy: 0.7841 - val_loss: 0.5236 - val_accuracy: 0.7390\n",
      "Epoch 18/25\n",
      "251/251 [==============================] - 63s 253ms/step - loss: 0.4507 - accuracy: 0.7879 - val_loss: 0.4747 - val_accuracy: 0.7750\n",
      "Epoch 19/25\n",
      "251/251 [==============================] - 50s 199ms/step - loss: 0.4501 - accuracy: 0.7829 - val_loss: 0.4764 - val_accuracy: 0.7769\n",
      "Epoch 20/25\n",
      "251/251 [==============================] - 31s 123ms/step - loss: 0.4385 - accuracy: 0.7904 - val_loss: 0.5034 - val_accuracy: 0.7650\n",
      "Epoch 21/25\n",
      "251/251 [==============================] - 31s 123ms/step - loss: 0.4276 - accuracy: 0.8014 - val_loss: 0.4948 - val_accuracy: 0.7615\n",
      "Epoch 22/25\n",
      "251/251 [==============================] - 32s 126ms/step - loss: 0.4286 - accuracy: 0.7988 - val_loss: 0.4749 - val_accuracy: 0.7730\n",
      "Epoch 23/25\n",
      "251/251 [==============================] - 31s 125ms/step - loss: 0.4184 - accuracy: 0.7981 - val_loss: 0.4771 - val_accuracy: 0.7710\n",
      "Epoch 24/25\n",
      "251/251 [==============================] - 30s 120ms/step - loss: 0.4141 - accuracy: 0.8098 - val_loss: 0.4862 - val_accuracy: 0.7685\n",
      "Epoch 25/25\n",
      "251/251 [==============================] - 30s 119ms/step - loss: 0.4109 - accuracy: 0.8100 - val_loss: 0.4796 - val_accuracy: 0.7750\n"
     ]
    },
    {
     "data": {
      "text/plain": [
       "<keras.src.callbacks.History at 0x150f9137250>"
      ]
     },
     "execution_count": 10,
     "metadata": {},
     "output_type": "execute_result"
    }
   ],
   "source": [
    "cnn.fit(x = training_set, validation_data = test_set, epochs = 25)"
   ]
  },
  {
   "cell_type": "markdown",
   "metadata": {},
   "source": [
    "## Making a Single Prediction"
   ]
  },
  {
   "cell_type": "code",
   "execution_count": 12,
   "metadata": {},
   "outputs": [
    {
     "name": "stdout",
     "output_type": "stream",
     "text": [
      "1/1 [==============================] - 0s 33ms/step\n",
      "cat\n"
     ]
    }
   ],
   "source": [
    "import numpy as np\n",
    "from keras.preprocessing import image\n",
    "test_image = image.load_img('dataset/cat.4.jpg', target_size = (64, 64))\n",
    "test_image = image.img_to_array(test_image)\n",
    "test_image = np.expand_dims(test_image, axis = 0)\n",
    "result = cnn.predict(test_image)\n",
    "training_set.class_indices\n",
    "if result[0][0] == 1:\n",
    "  prediction = 'dog'\n",
    "else:\n",
    "  prediction = 'cat'\n",
    "\n",
    "print(prediction)"
   ]
  }
 ],
 "metadata": {
  "kernelspec": {
   "display_name": "base",
   "language": "python",
   "name": "python3"
  },
  "language_info": {
   "codemirror_mode": {
    "name": "ipython",
    "version": 3
   },
   "file_extension": ".py",
   "mimetype": "text/x-python",
   "name": "python",
   "nbconvert_exporter": "python",
   "pygments_lexer": "ipython3",
   "version": "3.11.3"
  }
 },
 "nbformat": 4,
 "nbformat_minor": 2
}
